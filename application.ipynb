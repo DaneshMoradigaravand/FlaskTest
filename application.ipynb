{
    "cells": [
        {
            "cell_type": "code",
            "execution_count": 3,
            "source": [
                "from flask import Flask\n",
                "import pickle\n",
                "import pandas as pd\n",
                "from flask import request, jsonify\n",
                "import matplotlib.pyplot as plt\n",
                "\n",
                "app= Flask(__name__)\n",
                "\n",
                "def predict_drug(input_sequence):\n",
                "    unique_sequences_freq=[]\n",
                "    unique_sequences=pd.read_csv(\"unique_sequences_5.csv\")\n",
                "    unique_sequences=unique_sequences.iloc[:,1].values\n",
                "\n",
                "    unique_sequences_freq.append([input_sequence.count(i) for i in unique_sequences])\n",
                "    pickle_file=open('finalized_model_5_PKJK.pkl','rb')\n",
                "    model=pickle.load(pickle_file)\n",
                "    return(model.predict(pd.DataFrame(unique_sequences_freq))[0])\n",
                "\n",
                "@app.route(\"/\")\n",
                "def hello():\n",
                "    return \"Prediction Application\"\n",
                "\n",
                "@app.route(\"/\", methods=['GET'])\n",
                "def api_all():\n",
                "    input_sequence=str(request.args['input_sequence'])\n",
                "    predicted_value=predict_drug(input_sequence)\n",
                "    return(jsonify(predicted_value_output=predicted_value))\n"
            ],
            "outputs": [],
            "metadata": {}
        },
        {
            "cell_type": "code",
            "execution_count": null,
            "source": [],
            "outputs": [],
            "metadata": {}
        }
    ],
    "metadata": {
        "orig_nbformat": 4,
        "language_info": {
            "name": "python",
            "version": "3.8.8",
            "mimetype": "text/x-python",
            "codemirror_mode": {
                "name": "ipython",
                "version": 3
            },
            "pygments_lexer": "ipython3",
            "nbconvert_exporter": "python",
            "file_extension": ".py"
        },
        "kernelspec": {
            "name": "python3",
            "display_name": "Python 3.8.8 64-bit ('base': conda)"
        },
        "interpreter": {
            "hash": "a6a1e0beb5c4093c68379d44901e3bf8cc001d206d28c8b48ff62f1c3d14f6f5"
        }
    },
    "nbformat": 4,
    "nbformat_minor": 2
}